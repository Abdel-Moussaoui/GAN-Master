{
  "nbformat": 4,
  "nbformat_minor": 0,
  "metadata": {
    "colab": {
      "name": "AutoEncoder1.ipynb",
      "provenance": [],
      "authorship_tag": "ABX9TyP+DleZLcWcaP3m4Mq5L4DI",
      "include_colab_link": true
    },
    "kernelspec": {
      "name": "python3",
      "display_name": "Python 3"
    }
  },
  "cells": [
    {
      "cell_type": "markdown",
      "metadata": {
        "id": "view-in-github",
        "colab_type": "text"
      },
      "source": [
        "<a href=\"https://colab.research.google.com/github/Abdel-Moussaoui/GAN-Master/blob/master/AutoEncoder1.ipynb\" target=\"_parent\"><img src=\"https://colab.research.google.com/assets/colab-badge.svg\" alt=\"Open In Colab\"/></a>"
      ]
    },
    {
      "cell_type": "markdown",
      "metadata": {
        "id": "ZsyTKQHIq2mP",
        "colab_type": "text"
      },
      "source": [
        "\n",
        "\n",
        "* We'll start simple, with a single fully-connected neural layer as encoder and as decoder:\n",
        "\n"
      ]
    },
    {
      "cell_type": "code",
      "metadata": {
        "id": "TJXCTfoKrGhD",
        "colab_type": "code",
        "colab": {}
      },
      "source": [
        "from keras.layers import Input, Dense\n",
        "from keras.models import Model\n",
        "\n",
        "# this is the size of our encoded representations\n",
        "encoding_dim = 32  # 32 floats -> compression of factor 24.5, assuming the input is 784 floats\n",
        "\n",
        "# this is our input placeholder\n",
        "input_img = Input(shape=(784,))\n",
        "# \"encoded\" is the encoded representation of the input\n",
        "encoded = Dense(encoding_dim, activation='relu')(input_img)\n",
        "# \"decoded\" is the lossy reconstruction of the input\n",
        "decoded = Dense(784, activation='sigmoid')(encoded)\n",
        "\n",
        "# this model maps an input to its reconstruction\n",
        "autoencoder = Model(input_img, decoded)\n"
      ],
      "execution_count": 0,
      "outputs": []
    },
    {
      "cell_type": "markdown",
      "metadata": {
        "id": "WRclAlsIreYv",
        "colab_type": "text"
      },
      "source": [
        "* Let's also create a separate encoder model:"
      ]
    },
    {
      "cell_type": "code",
      "metadata": {
        "id": "bafm2Svxrq8x",
        "colab_type": "code",
        "colab": {}
      },
      "source": [
        "# this model maps an input to its encoded representation\n",
        "encoder = Model(input_img, encoded)"
      ],
      "execution_count": 0,
      "outputs": []
    },
    {
      "cell_type": "markdown",
      "metadata": {
        "id": "CdTx5x1ervCN",
        "colab_type": "text"
      },
      "source": [
        "* As well as the decoder model:"
      ]
    },
    {
      "cell_type": "code",
      "metadata": {
        "id": "abH39arHr0tb",
        "colab_type": "code",
        "colab": {}
      },
      "source": [
        "# create a placeholder for an encoded (32-dimensional) input\n",
        "encoded_input = Input(shape=(encoding_dim,))\n",
        "# retrieve the last layer of the autoencoder model\n",
        "decoder_layer = autoencoder.layers[-1]\n",
        "# create the decoder model\n",
        "decoder = Model(encoded_input, decoder_layer(encoded_input))"
      ],
      "execution_count": 0,
      "outputs": []
    },
    {
      "cell_type": "markdown",
      "metadata": {
        "id": "TmHjgFz_r2A2",
        "colab_type": "text"
      },
      "source": [
        "\n",
        "\n",
        "* Now let's train our autoencoder to reconstruct MNIST digits.\n",
        "\n",
        "* First, we'll configure our model to use a per-pixel binary crossentropy loss, and the Adadelta optimizer:\n"
      ]
    },
    {
      "cell_type": "code",
      "metadata": {
        "id": "9iJR_lIot2HK",
        "colab_type": "code",
        "colab": {}
      },
      "source": [
        "autoencoder.compile(optimizer='adadelta', loss='binary_crossentropy')"
      ],
      "execution_count": 0,
      "outputs": []
    },
    {
      "cell_type": "markdown",
      "metadata": {
        "id": "gdtUARdot5jB",
        "colab_type": "text"
      },
      "source": [
        "* Let's prepare our input data. We're using MNIST digits, and we're discarding the labels (since we're only interested in encoding/decoding the input images)."
      ]
    },
    {
      "cell_type": "code",
      "metadata": {
        "id": "w3YzFA05sKWT",
        "colab_type": "code",
        "colab": {}
      },
      "source": [
        "from keras.datasets import mnist\n",
        "import numpy as np\n",
        "(x_train, _), (x_test, _) = mnist.load_data()"
      ],
      "execution_count": 0,
      "outputs": []
    },
    {
      "cell_type": "markdown",
      "metadata": {
        "id": "PkVDBIdLsPBE",
        "colab_type": "text"
      },
      "source": [
        "* We will normalize all values between 0 and 1 and we will flatten the 28x28 images into vectors of size 784."
      ]
    },
    {
      "cell_type": "code",
      "metadata": {
        "id": "SboYDTeqr9Ce",
        "colab_type": "code",
        "colab": {
          "base_uri": "https://localhost:8080/",
          "height": 51
        },
        "outputId": "c144295d-898f-4412-ea1f-91e61191438a"
      },
      "source": [
        "x_train = x_train.astype('float32') / 255.\n",
        "x_test = x_test.astype('float32') / 255.\n",
        "x_train = x_train.reshape((len(x_train), np.prod(x_train.shape[1:])))\n",
        "x_test = x_test.reshape((len(x_test), np.prod(x_test.shape[1:])))\n",
        "print (x_train.shape)\n",
        "print (x_test.shape)"
      ],
      "execution_count": 13,
      "outputs": [
        {
          "output_type": "stream",
          "text": [
            "(60000, 784)\n",
            "(10000, 784)\n"
          ],
          "name": "stdout"
        }
      ]
    },
    {
      "cell_type": "markdown",
      "metadata": {
        "id": "_SDN37q3sVaY",
        "colab_type": "text"
      },
      "source": [
        "* Now let's train our autoencoder for 50 epochs:"
      ]
    },
    {
      "cell_type": "code",
      "metadata": {
        "id": "hX6paRoxsa9Z",
        "colab_type": "code",
        "colab": {
          "base_uri": "https://localhost:8080/",
          "height": 1000
        },
        "outputId": "f5e66589-2ce6-47ad-fd7e-0877553fab49"
      },
      "source": [
        "autoencoder.fit(x_train, x_train,\n",
        "                epochs=50,\n",
        "                batch_size=256,\n",
        "                shuffle=True,\n",
        "                validation_data=(x_test, x_test))"
      ],
      "execution_count": 14,
      "outputs": [
        {
          "output_type": "stream",
          "text": [
            "Train on 60000 samples, validate on 10000 samples\n",
            "Epoch 1/50\n",
            "60000/60000 [==============================] - 2s 41us/step - loss: 0.3641 - val_loss: 0.2708\n",
            "Epoch 2/50\n",
            "60000/60000 [==============================] - 2s 35us/step - loss: 0.2627 - val_loss: 0.2507\n",
            "Epoch 3/50\n",
            "60000/60000 [==============================] - 2s 35us/step - loss: 0.2401 - val_loss: 0.2276\n",
            "Epoch 4/50\n",
            "60000/60000 [==============================] - 2s 35us/step - loss: 0.2202 - val_loss: 0.2106\n",
            "Epoch 5/50\n",
            "60000/60000 [==============================] - 2s 35us/step - loss: 0.2056 - val_loss: 0.1981\n",
            "Epoch 6/50\n",
            "60000/60000 [==============================] - 2s 36us/step - loss: 0.1949 - val_loss: 0.1890\n",
            "Epoch 7/50\n",
            "60000/60000 [==============================] - 2s 35us/step - loss: 0.1869 - val_loss: 0.1819\n",
            "Epoch 8/50\n",
            "60000/60000 [==============================] - 2s 34us/step - loss: 0.1805 - val_loss: 0.1761\n",
            "Epoch 9/50\n",
            "60000/60000 [==============================] - 2s 35us/step - loss: 0.1749 - val_loss: 0.1709\n",
            "Epoch 10/50\n",
            "60000/60000 [==============================] - 2s 36us/step - loss: 0.1700 - val_loss: 0.1663\n",
            "Epoch 11/50\n",
            "60000/60000 [==============================] - 2s 37us/step - loss: 0.1656 - val_loss: 0.1622\n",
            "Epoch 12/50\n",
            "60000/60000 [==============================] - 2s 35us/step - loss: 0.1617 - val_loss: 0.1585\n",
            "Epoch 13/50\n",
            "60000/60000 [==============================] - 2s 35us/step - loss: 0.1582 - val_loss: 0.1551\n",
            "Epoch 14/50\n",
            "60000/60000 [==============================] - 2s 36us/step - loss: 0.1549 - val_loss: 0.1518\n",
            "Epoch 15/50\n",
            "60000/60000 [==============================] - 2s 36us/step - loss: 0.1517 - val_loss: 0.1488\n",
            "Epoch 16/50\n",
            "60000/60000 [==============================] - 2s 36us/step - loss: 0.1488 - val_loss: 0.1459\n",
            "Epoch 17/50\n",
            "60000/60000 [==============================] - 2s 36us/step - loss: 0.1461 - val_loss: 0.1433\n",
            "Epoch 18/50\n",
            "60000/60000 [==============================] - 2s 35us/step - loss: 0.1435 - val_loss: 0.1407\n",
            "Epoch 19/50\n",
            "60000/60000 [==============================] - 2s 36us/step - loss: 0.1410 - val_loss: 0.1383\n",
            "Epoch 20/50\n",
            "60000/60000 [==============================] - 2s 36us/step - loss: 0.1386 - val_loss: 0.1360\n",
            "Epoch 21/50\n",
            "60000/60000 [==============================] - 2s 36us/step - loss: 0.1364 - val_loss: 0.1338\n",
            "Epoch 22/50\n",
            "60000/60000 [==============================] - 2s 35us/step - loss: 0.1342 - val_loss: 0.1316\n",
            "Epoch 23/50\n",
            "60000/60000 [==============================] - 2s 36us/step - loss: 0.1322 - val_loss: 0.1296\n",
            "Epoch 24/50\n",
            "60000/60000 [==============================] - 2s 36us/step - loss: 0.1302 - val_loss: 0.1278\n",
            "Epoch 25/50\n",
            "60000/60000 [==============================] - 2s 36us/step - loss: 0.1284 - val_loss: 0.1259\n",
            "Epoch 26/50\n",
            "60000/60000 [==============================] - 2s 36us/step - loss: 0.1266 - val_loss: 0.1241\n",
            "Epoch 27/50\n",
            "60000/60000 [==============================] - 2s 36us/step - loss: 0.1249 - val_loss: 0.1225\n",
            "Epoch 28/50\n",
            "60000/60000 [==============================] - 2s 37us/step - loss: 0.1233 - val_loss: 0.1210\n",
            "Epoch 29/50\n",
            "60000/60000 [==============================] - 2s 37us/step - loss: 0.1218 - val_loss: 0.1195\n",
            "Epoch 30/50\n",
            "60000/60000 [==============================] - 2s 37us/step - loss: 0.1204 - val_loss: 0.1181\n",
            "Epoch 31/50\n",
            "60000/60000 [==============================] - 2s 36us/step - loss: 0.1191 - val_loss: 0.1169\n",
            "Epoch 32/50\n",
            "60000/60000 [==============================] - 2s 36us/step - loss: 0.1179 - val_loss: 0.1157\n",
            "Epoch 33/50\n",
            "60000/60000 [==============================] - 2s 36us/step - loss: 0.1167 - val_loss: 0.1146\n",
            "Epoch 34/50\n",
            "60000/60000 [==============================] - 2s 37us/step - loss: 0.1157 - val_loss: 0.1135\n",
            "Epoch 35/50\n",
            "60000/60000 [==============================] - 2s 37us/step - loss: 0.1147 - val_loss: 0.1126\n",
            "Epoch 36/50\n",
            "60000/60000 [==============================] - 2s 36us/step - loss: 0.1137 - val_loss: 0.1116\n",
            "Epoch 37/50\n",
            "60000/60000 [==============================] - 2s 36us/step - loss: 0.1128 - val_loss: 0.1108\n",
            "Epoch 38/50\n",
            "60000/60000 [==============================] - 2s 36us/step - loss: 0.1120 - val_loss: 0.1100\n",
            "Epoch 39/50\n",
            "60000/60000 [==============================] - 2s 37us/step - loss: 0.1112 - val_loss: 0.1092\n",
            "Epoch 40/50\n",
            "60000/60000 [==============================] - 2s 36us/step - loss: 0.1105 - val_loss: 0.1085\n",
            "Epoch 41/50\n",
            "60000/60000 [==============================] - 2s 36us/step - loss: 0.1098 - val_loss: 0.1078\n",
            "Epoch 42/50\n",
            "60000/60000 [==============================] - 2s 36us/step - loss: 0.1091 - val_loss: 0.1071\n",
            "Epoch 43/50\n",
            "60000/60000 [==============================] - 2s 36us/step - loss: 0.1084 - val_loss: 0.1065\n",
            "Epoch 44/50\n",
            "60000/60000 [==============================] - 2s 36us/step - loss: 0.1078 - val_loss: 0.1059\n",
            "Epoch 45/50\n",
            "60000/60000 [==============================] - 2s 36us/step - loss: 0.1072 - val_loss: 0.1053\n",
            "Epoch 46/50\n",
            "60000/60000 [==============================] - 2s 36us/step - loss: 0.1066 - val_loss: 0.1047\n",
            "Epoch 47/50\n",
            "60000/60000 [==============================] - 2s 36us/step - loss: 0.1061 - val_loss: 0.1042\n",
            "Epoch 48/50\n",
            "60000/60000 [==============================] - 2s 36us/step - loss: 0.1056 - val_loss: 0.1037\n",
            "Epoch 49/50\n",
            "60000/60000 [==============================] - 2s 36us/step - loss: 0.1051 - val_loss: 0.1032\n",
            "Epoch 50/50\n",
            "60000/60000 [==============================] - 2s 36us/step - loss: 0.1046 - val_loss: 0.1027\n"
          ],
          "name": "stdout"
        },
        {
          "output_type": "execute_result",
          "data": {
            "text/plain": [
              "<keras.callbacks.callbacks.History at 0x7fd2159d3630>"
            ]
          },
          "metadata": {
            "tags": []
          },
          "execution_count": 14
        }
      ]
    },
    {
      "cell_type": "markdown",
      "metadata": {
        "id": "V8qRwm5Xsdlh",
        "colab_type": "text"
      },
      "source": [
        "* After 50 epochs, the autoencoder seems to reach a stable train/test loss value of about 0.11. We can try to visualize the reconstructed inputs and the encoded representations. We will use Matplotlib."
      ]
    },
    {
      "cell_type": "code",
      "metadata": {
        "id": "9MAIDxUjs91r",
        "colab_type": "code",
        "colab": {}
      },
      "source": [
        "# encode and decode some digits\n",
        "# note that we take them from the *test* set\n",
        "encoded_imgs = encoder.predict(x_test)\n",
        "decoded_imgs = decoder.predict(encoded_imgs)"
      ],
      "execution_count": 0,
      "outputs": []
    },
    {
      "cell_type": "code",
      "metadata": {
        "id": "witMfLy_shuE",
        "colab_type": "code",
        "colab": {
          "base_uri": "https://localhost:8080/",
          "height": 248
        },
        "outputId": "48ae558c-21a6-4ede-8ca0-7d90e86b7b08"
      },
      "source": [
        "# use Matplotlib (don't ask)\n",
        "import matplotlib.pyplot as plt\n",
        "\n",
        "n = 10  # how many digits we will display\n",
        "plt.figure(figsize=(20, 4))\n",
        "for i in range(n):\n",
        "    # display original\n",
        "    ax = plt.subplot(2, n, i + 1)\n",
        "    plt.imshow(x_test[i].reshape(28, 28))\n",
        "    plt.gray()\n",
        "    ax.get_xaxis().set_visible(False)\n",
        "    ax.get_yaxis().set_visible(False)\n",
        "\n",
        "    # display reconstruction\n",
        "    ax = plt.subplot(2, n, i + 1 + n)\n",
        "    plt.imshow(decoded_imgs[i].reshape(28, 28))\n",
        "    plt.gray()\n",
        "    ax.get_xaxis().set_visible(False)\n",
        "    ax.get_yaxis().set_visible(False)\n",
        "plt.show()"
      ],
      "execution_count": 16,
      "outputs": [
        {
          "output_type": "display_data",
          "data": {
            "image/png": "[encoded data removed]",
            "text/plain": [
              "<Figure size 1440x288 with 20 Axes>"
            ]
          },
          "metadata": {
            "tags": [],
            "needs_background": "light"
          }
        }
      ]
    }
  ]
}